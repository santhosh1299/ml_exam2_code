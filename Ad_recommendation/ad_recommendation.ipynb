{
 "cells": [
  {
   "cell_type": "markdown",
   "metadata": {},
   "source": [
    "### Association Rule Mining"
   ]
  },
  {
   "cell_type": "code",
   "execution_count": 120,
   "metadata": {
    "vscode": {
     "languageId": "r"
    }
   },
   "outputs": [
    {
     "data": {
      "text/plain": [
       "transactions in sparse format with\n",
       " 35 transactions (rows) and\n",
       " 10 items (columns)"
      ]
     },
     "metadata": {},
     "output_type": "display_data"
    }
   ],
   "source": [
    "library(arules)\n",
    "library(arulesViz)\n",
    "\n",
    "data <- read.transactions(\"data.csv\",\n",
    "                           rm.duplicates = FALSE, \n",
    "                           format = \"basket\",  \n",
    "                           sep=\",\",  ## csv file\n",
    "                           cols=1)\n",
    "data"
   ]
  },
  {
   "cell_type": "code",
   "execution_count": 121,
   "metadata": {
    "vscode": {
     "languageId": "r"
    }
   },
   "outputs": [],
   "source": [
    "data <- data[1:20]"
   ]
  },
  {
   "cell_type": "markdown",
   "metadata": {},
   "source": [
    "### Transaction Data"
   ]
  },
  {
   "cell_type": "code",
   "execution_count": 122,
   "metadata": {
    "vscode": {
     "languageId": "r"
    }
   },
   "outputs": [
    {
     "name": "stdout",
     "output_type": "stream",
     "text": [
      "     items                                      transactionID  \n",
      "[1]  {HEADPHONES, WALLET}                       SMARTPHONE_CASE\n",
      "[2]  {CHAIR, SCREEN_CLEANER}                    SMARTPHONE_CASE\n",
      "[3]  {HDMI_CABLE, KEYBOARD, SCREEN GUARD}       SCREEN_CLEANER \n",
      "[4]  {HDMI_CABLE, HEADPHONES}                   CHARGER        \n",
      "[5]  {HDMI_CABLE, SMARTPHONE_CASE}              SMARTPHONE     \n",
      "[6]  {HDMI_CABLE, HEADPHONES, SMARTPHONE_CASE}  CHARGER        \n",
      "[7]  {HDMI_CABLE, KEYBOARD, SCREEN GUARD}       SCREEN_CLEANER \n",
      "[8]  {CHAIR, WALLET}                            SMARTPHONE_CASE\n",
      "[9]  {CHAIR, SCREEN_CLEANER}                    SMARTPHONE_CASE\n",
      "[10] {HEADPHONES, WALLET}                       SMARTPHONE_CASE\n",
      "[11] {SCREEN GUARD, SCREEN_CLEANER, SMARTPHONE} HEADPHONES     \n",
      "[12] {CHAIR, WALLET}                            SCREEN_CLEANER \n",
      "[13] {HEADPHONES, SCREEN GUARD}                 CHARGER        \n",
      "[14] {CHAIR, SCREEN GUARD}                      SCREEN_CLEANER \n",
      "[15] {CHAIR, HDMI_CABLE}                        SMARTPHONE_CASE\n",
      "[16] {CHARGER, HEADPHONES, SMARTPHONE_CASE}     TABLE          \n",
      "[17] {KEYBOARD, SCREEN_CLEANER}                 SMARTPHONE_CASE\n",
      "[18] {SMARTPHONE}                               SMARTPHONE_CASE\n",
      "[19] {HDMI_CABLE, SCREEN GUARD, SMARTPHONE}     SMARTPHONE_CASE\n",
      "[20] {CHARGER, SMARTPHONE, SMARTPHONE_CASE}     TABLE          \n"
     ]
    }
   ],
   "source": [
    "inspect(data)"
   ]
  },
  {
   "cell_type": "markdown",
   "metadata": {
    "vscode": {
     "languageId": "r"
    }
   },
   "source": [
    "### Association Rules "
   ]
  },
  {
   "cell_type": "code",
   "execution_count": 123,
   "metadata": {
    "vscode": {
     "languageId": "r"
    }
   },
   "outputs": [
    {
     "name": "stdout",
     "output_type": "stream",
     "text": [
      "     lhs                               rhs               support confidence\n",
      "[1]  {CHARGER}                      => {SMARTPHONE}      0.05    0.5000000 \n",
      "[2]  {SMARTPHONE}                   => {CHARGER}         0.05    0.2500000 \n",
      "[3]  {CHARGER}                      => {SMARTPHONE_CASE} 0.10    1.0000000 \n",
      "[4]  {SMARTPHONE_CASE}              => {CHARGER}         0.10    0.5000000 \n",
      "[5]  {CHARGER}                      => {HEADPHONES}      0.05    0.5000000 \n",
      "[6]  {HEADPHONES}                   => {CHARGER}         0.05    0.1666667 \n",
      "[7]  {WALLET}                       => {CHAIR}           0.10    0.5000000 \n",
      "[8]  {CHAIR}                        => {WALLET}          0.10    0.3333333 \n",
      "[9]  {WALLET}                       => {HEADPHONES}      0.10    0.5000000 \n",
      "[10] {HEADPHONES}                   => {WALLET}          0.10    0.3333333 \n",
      "[11] {KEYBOARD}                     => {SCREEN_CLEANER}  0.05    0.3333333 \n",
      "[12] {SCREEN_CLEANER}               => {KEYBOARD}        0.05    0.2500000 \n",
      "[13] {KEYBOARD}                     => {SCREEN GUARD}    0.10    0.6666667 \n",
      "[14] {SCREEN GUARD}                 => {KEYBOARD}        0.10    0.3333333 \n",
      "[15] {KEYBOARD}                     => {HDMI_CABLE}      0.10    0.6666667 \n",
      "[16] {HDMI_CABLE}                   => {KEYBOARD}        0.10    0.2857143 \n",
      "[17] {SCREEN_CLEANER}               => {SMARTPHONE}      0.05    0.2500000 \n",
      "[18] {SMARTPHONE}                   => {SCREEN_CLEANER}  0.05    0.2500000 \n",
      "[19] {SCREEN_CLEANER}               => {CHAIR}           0.10    0.5000000 \n",
      "[20] {CHAIR}                        => {SCREEN_CLEANER}  0.10    0.3333333 \n",
      "[21] {SCREEN_CLEANER}               => {SCREEN GUARD}    0.05    0.2500000 \n",
      "[22] {SCREEN GUARD}                 => {SCREEN_CLEANER}  0.05    0.1666667 \n",
      "[23] {SMARTPHONE}                   => {SMARTPHONE_CASE} 0.05    0.2500000 \n",
      "[24] {SMARTPHONE_CASE}              => {SMARTPHONE}      0.05    0.2500000 \n",
      "[25] {SMARTPHONE}                   => {SCREEN GUARD}    0.10    0.5000000 \n",
      "[26] {SCREEN GUARD}                 => {SMARTPHONE}      0.10    0.3333333 \n",
      "[27] {SMARTPHONE}                   => {HDMI_CABLE}      0.05    0.2500000 \n",
      "[28] {HDMI_CABLE}                   => {SMARTPHONE}      0.05    0.1428571 \n",
      "[29] {SMARTPHONE_CASE}              => {HEADPHONES}      0.10    0.5000000 \n",
      "[30] {HEADPHONES}                   => {SMARTPHONE_CASE} 0.10    0.3333333 \n",
      "[31] {SMARTPHONE_CASE}              => {HDMI_CABLE}      0.10    0.5000000 \n",
      "[32] {HDMI_CABLE}                   => {SMARTPHONE_CASE} 0.10    0.2857143 \n",
      "[33] {CHAIR}                        => {SCREEN GUARD}    0.05    0.1666667 \n",
      "[34] {SCREEN GUARD}                 => {CHAIR}           0.05    0.1666667 \n",
      "[35] {CHAIR}                        => {HDMI_CABLE}      0.05    0.1666667 \n",
      "[36] {HDMI_CABLE}                   => {CHAIR}           0.05    0.1428571 \n",
      "[37] {HEADPHONES}                   => {SCREEN GUARD}    0.05    0.1666667 \n",
      "[38] {SCREEN GUARD}                 => {HEADPHONES}      0.05    0.1666667 \n",
      "[39] {HEADPHONES}                   => {HDMI_CABLE}      0.10    0.3333333 \n",
      "[40] {HDMI_CABLE}                   => {HEADPHONES}      0.10    0.2857143 \n",
      "[41] {SCREEN GUARD}                 => {HDMI_CABLE}      0.15    0.5000000 \n",
      "[42] {HDMI_CABLE}                   => {SCREEN GUARD}    0.15    0.4285714 \n",
      "[43] {CHARGER, SMARTPHONE}          => {SMARTPHONE_CASE} 0.05    1.0000000 \n",
      "[44] {CHARGER, SMARTPHONE_CASE}     => {SMARTPHONE}      0.05    0.5000000 \n",
      "[45] {SMARTPHONE, SMARTPHONE_CASE}  => {CHARGER}         0.05    1.0000000 \n",
      "[46] {CHARGER, SMARTPHONE_CASE}     => {HEADPHONES}      0.05    0.5000000 \n",
      "[47] {CHARGER, HEADPHONES}          => {SMARTPHONE_CASE} 0.05    1.0000000 \n",
      "[48] {HEADPHONES, SMARTPHONE_CASE}  => {CHARGER}         0.05    0.5000000 \n",
      "[49] {KEYBOARD, SCREEN GUARD}       => {HDMI_CABLE}      0.10    1.0000000 \n",
      "[50] {HDMI_CABLE, KEYBOARD}         => {SCREEN GUARD}    0.10    1.0000000 \n",
      "[51] {HDMI_CABLE, SCREEN GUARD}     => {KEYBOARD}        0.10    0.6666667 \n",
      "[52] {SCREEN_CLEANER, SMARTPHONE}   => {SCREEN GUARD}    0.05    1.0000000 \n",
      "[53] {SCREEN GUARD, SCREEN_CLEANER} => {SMARTPHONE}      0.05    1.0000000 \n",
      "[54] {SCREEN GUARD, SMARTPHONE}     => {SCREEN_CLEANER}  0.05    0.5000000 \n",
      "[55] {SCREEN GUARD, SMARTPHONE}     => {HDMI_CABLE}      0.05    0.5000000 \n",
      "[56] {HDMI_CABLE, SMARTPHONE}       => {SCREEN GUARD}    0.05    1.0000000 \n",
      "[57] {HDMI_CABLE, SCREEN GUARD}     => {SMARTPHONE}      0.05    0.3333333 \n",
      "[58] {HEADPHONES, SMARTPHONE_CASE}  => {HDMI_CABLE}      0.05    0.5000000 \n",
      "[59] {HDMI_CABLE, SMARTPHONE_CASE}  => {HEADPHONES}      0.05    0.5000000 \n",
      "[60] {HDMI_CABLE, HEADPHONES}       => {SMARTPHONE_CASE} 0.05    0.5000000 \n",
      "     coverage lift       count\n",
      "[1]  0.10      2.5000000 1    \n",
      "[2]  0.20      2.5000000 1    \n",
      "[3]  0.10      5.0000000 2    \n",
      "[4]  0.20      5.0000000 2    \n",
      "[5]  0.10      1.6666667 1    \n",
      "[6]  0.30      1.6666667 1    \n",
      "[7]  0.20      1.6666667 2    \n",
      "[8]  0.30      1.6666667 2    \n",
      "[9]  0.20      1.6666667 2    \n",
      "[10] 0.30      1.6666667 2    \n",
      "[11] 0.15      1.6666667 1    \n",
      "[12] 0.20      1.6666667 1    \n",
      "[13] 0.15      2.2222222 2    \n",
      "[14] 0.30      2.2222222 2    \n",
      "[15] 0.15      1.9047619 2    \n",
      "[16] 0.35      1.9047619 2    \n",
      "[17] 0.20      1.2500000 1    \n",
      "[18] 0.20      1.2500000 1    \n",
      "[19] 0.20      1.6666667 2    \n",
      "[20] 0.30      1.6666667 2    \n",
      "[21] 0.20      0.8333333 1    \n",
      "[22] 0.30      0.8333333 1    \n",
      "[23] 0.20      1.2500000 1    \n",
      "[24] 0.20      1.2500000 1    \n",
      "[25] 0.20      1.6666667 2    \n",
      "[26] 0.30      1.6666667 2    \n",
      "[27] 0.20      0.7142857 1    \n",
      "[28] 0.35      0.7142857 1    \n",
      "[29] 0.20      1.6666667 2    \n",
      "[30] 0.30      1.6666667 2    \n",
      "[31] 0.20      1.4285714 2    \n",
      "[32] 0.35      1.4285714 2    \n",
      "[33] 0.30      0.5555556 1    \n",
      "[34] 0.30      0.5555556 1    \n",
      "[35] 0.30      0.4761905 1    \n",
      "[36] 0.35      0.4761905 1    \n",
      "[37] 0.30      0.5555556 1    \n",
      "[38] 0.30      0.5555556 1    \n",
      "[39] 0.30      0.9523810 2    \n",
      "[40] 0.35      0.9523810 2    \n",
      "[41] 0.30      1.4285714 3    \n",
      "[42] 0.35      1.4285714 3    \n",
      "[43] 0.05      5.0000000 1    \n",
      "[44] 0.10      2.5000000 1    \n",
      "[45] 0.05     10.0000000 1    \n",
      "[46] 0.10      1.6666667 1    \n",
      "[47] 0.05      5.0000000 1    \n",
      "[48] 0.10      5.0000000 1    \n",
      "[49] 0.10      2.8571429 2    \n",
      "[50] 0.10      3.3333333 2    \n",
      "[51] 0.15      4.4444444 2    \n",
      "[52] 0.05      3.3333333 1    \n",
      "[53] 0.05      5.0000000 1    \n",
      "[54] 0.10      2.5000000 1    \n",
      "[55] 0.10      1.4285714 1    \n",
      "[56] 0.05      3.3333333 1    \n",
      "[57] 0.15      1.6666667 1    \n",
      "[58] 0.10      1.4285714 1    \n",
      "[59] 0.10      1.6666667 1    \n",
      "[60] 0.10      2.5000000 1    \n"
     ]
    }
   ],
   "source": [
    "rules <- apriori(data=data,parameter = list(supp=.04, conf=.06, minlen=2),\n",
    "                    ,\n",
    "                     control=list(verbose=FALSE))\n",
    "\n",
    "inspect(rules)                                               "
   ]
  },
  {
   "cell_type": "markdown",
   "metadata": {},
   "source": [
    "### Rules - Smartphone in the LHS"
   ]
  },
  {
   "cell_type": "code",
   "execution_count": 124,
   "metadata": {
    "vscode": {
     "languageId": "r"
    }
   },
   "outputs": [
    {
     "name": "stdout",
     "output_type": "stream",
     "text": [
      "    lhs             rhs               support confidence coverage lift     \n",
      "[1] {SMARTPHONE} => {CHARGER}         0.05    0.25       0.2      2.5000000\n",
      "[2] {SMARTPHONE} => {SCREEN_CLEANER}  0.05    0.25       0.2      1.2500000\n",
      "[3] {SMARTPHONE} => {SMARTPHONE_CASE} 0.05    0.25       0.2      1.2500000\n",
      "[4] {SMARTPHONE} => {SCREEN GUARD}    0.10    0.50       0.2      1.6666667\n",
      "[5] {SMARTPHONE} => {HDMI_CABLE}      0.05    0.25       0.2      0.7142857\n",
      "    count\n",
      "[1] 1    \n",
      "[2] 1    \n",
      "[3] 1    \n",
      "[4] 2    \n",
      "[5] 1    \n"
     ]
    }
   ],
   "source": [
    "rules <- apriori(data=data,parameter = list(supp=.04, conf=.06, minlen=2),\n",
    "                     appearance = list(default=\"rhs\", lhs=\"SMARTPHONE\"),\n",
    "                     control=list(verbose=FALSE))\n",
    "\n",
    "inspect(rules)                                               "
   ]
  },
  {
   "cell_type": "markdown",
   "metadata": {},
   "source": [
    "### Association Rules sorted by Lift\n",
    "\n",
    "Denotes the high association between the smartphone, this means that they are individually is less than compared to the purchase along with a smartphone."
   ]
  },
  {
   "cell_type": "code",
   "execution_count": 125,
   "metadata": {
    "vscode": {
     "languageId": "r"
    }
   },
   "outputs": [
    {
     "data": {
      "image/png": "[encoded data removed]",
      "text/plain": [
       "plot without title"
      ]
     },
     "metadata": {
      "image/png": {
       "height": 420,
       "width": 420
      }
     },
     "output_type": "display_data"
    }
   ],
   "source": [
    "rules <- head(sort(rules, by=\"lift\"))\n",
    "plot(rules,method = \"graph\")  "
   ]
  },
  {
   "cell_type": "markdown",
   "metadata": {},
   "source": [
    "### Association Rules sorted by Confidence\n",
    "\n",
    "Denotes a strong correlation between the other products which can be used for recommendations, it is reliable indicator for their correlation strength."
   ]
  },
  {
   "cell_type": "code",
   "execution_count": 126,
   "metadata": {
    "vscode": {
     "languageId": "r"
    }
   },
   "outputs": [
    {
     "data": {
      "image/png": "[encoded data removed]",
      "text/plain": [
       "plot without title"
      ]
     },
     "metadata": {
      "image/png": {
       "height": 420,
       "width": 420
      }
     },
     "output_type": "display_data"
    }
   ],
   "source": [
    "rules <- head(sort(rules, by=\"confidence\"))\n",
    "plot(rules,method = \"graph\")  "
   ]
  },
  {
   "cell_type": "markdown",
   "metadata": {},
   "source": [
    "### Association Rules sorted by Support\n",
    "\n",
    "Denotes the highly frequent item sets in the dataset which is just their repeated occurrence and popularity among the transactions."
   ]
  },
  {
   "cell_type": "code",
   "execution_count": 127,
   "metadata": {
    "vscode": {
     "languageId": "r"
    }
   },
   "outputs": [
    {
     "data": {
      "image/png": "[encoded data removed]",
      "text/plain": [
       "plot without title"
      ]
     },
     "metadata": {
      "image/png": {
       "height": 420,
       "width": 420
      }
     },
     "output_type": "display_data"
    }
   ],
   "source": [
    "rules <- head(sort(rules, by=\"support\"))\n",
    "plot(rules,method = \"graph\")  "
   ]
  },
  {
   "cell_type": "markdown",
   "metadata": {},
   "source": [
    "#### Top 5 Rules by Confidence"
   ]
  },
  {
   "cell_type": "code",
   "execution_count": 128,
   "metadata": {
    "vscode": {
     "languageId": "r"
    }
   },
   "outputs": [
    {
     "name": "stdout",
     "output_type": "stream",
     "text": [
      "    lhs             rhs               support confidence coverage lift     \n",
      "[1] {SMARTPHONE} => {SCREEN GUARD}    0.10    0.50       0.2      1.6666667\n",
      "[2] {SMARTPHONE} => {CHARGER}         0.05    0.25       0.2      2.5000000\n",
      "[3] {SMARTPHONE} => {SCREEN_CLEANER}  0.05    0.25       0.2      1.2500000\n",
      "[4] {SMARTPHONE} => {SMARTPHONE_CASE} 0.05    0.25       0.2      1.2500000\n",
      "[5] {SMARTPHONE} => {HDMI_CABLE}      0.05    0.25       0.2      0.7142857\n",
      "    count\n",
      "[1] 2    \n",
      "[2] 1    \n",
      "[3] 1    \n",
      "[4] 1    \n",
      "[5] 1    \n"
     ]
    }
   ],
   "source": [
    "conf_rules <- sort(rules, decreasing=TRUE, by=\"confidence\")\n",
    "inspect(conf_rules[1:5])     "
   ]
  },
  {
   "cell_type": "markdown",
   "metadata": {},
   "source": [
    "#### Top 5 Rules by Lift"
   ]
  },
  {
   "cell_type": "code",
   "execution_count": 129,
   "metadata": {
    "vscode": {
     "languageId": "r"
    }
   },
   "outputs": [
    {
     "name": "stdout",
     "output_type": "stream",
     "text": [
      "    lhs             rhs               support confidence coverage lift     \n",
      "[1] {SMARTPHONE} => {CHARGER}         0.05    0.25       0.2      2.5000000\n",
      "[2] {SMARTPHONE} => {SCREEN GUARD}    0.10    0.50       0.2      1.6666667\n",
      "[3] {SMARTPHONE} => {SCREEN_CLEANER}  0.05    0.25       0.2      1.2500000\n",
      "[4] {SMARTPHONE} => {SMARTPHONE_CASE} 0.05    0.25       0.2      1.2500000\n",
      "[5] {SMARTPHONE} => {HDMI_CABLE}      0.05    0.25       0.2      0.7142857\n",
      "    count\n",
      "[1] 1    \n",
      "[2] 2    \n",
      "[3] 1    \n",
      "[4] 1    \n",
      "[5] 1    \n"
     ]
    }
   ],
   "source": [
    "lift_rules <- sort(rules, decreasing=TRUE, by=\"lift\")\n",
    "inspect(lift_rules[1:5])     "
   ]
  },
  {
   "cell_type": "markdown",
   "metadata": {},
   "source": [
    "#### Top 5 Rules by Support"
   ]
  },
  {
   "cell_type": "code",
   "execution_count": 130,
   "metadata": {
    "vscode": {
     "languageId": "r"
    }
   },
   "outputs": [
    {
     "name": "stdout",
     "output_type": "stream",
     "text": [
      "    lhs             rhs               support confidence coverage lift     \n",
      "[1] {SMARTPHONE} => {SCREEN GUARD}    0.10    0.50       0.2      1.6666667\n",
      "[2] {SMARTPHONE} => {CHARGER}         0.05    0.25       0.2      2.5000000\n",
      "[3] {SMARTPHONE} => {SCREEN_CLEANER}  0.05    0.25       0.2      1.2500000\n",
      "[4] {SMARTPHONE} => {SMARTPHONE_CASE} 0.05    0.25       0.2      1.2500000\n",
      "[5] {SMARTPHONE} => {HDMI_CABLE}      0.05    0.25       0.2      0.7142857\n",
      "    count\n",
      "[1] 2    \n",
      "[2] 1    \n",
      "[3] 1    \n",
      "[4] 1    \n",
      "[5] 1    \n"
     ]
    }
   ],
   "source": [
    "supp_rules <- sort(rules, decreasing=TRUE, by=\"support\")\n",
    "inspect(supp_rules[1:5])     "
   ]
  }
 ],
 "metadata": {
  "kernelspec": {
   "display_name": "R",
   "language": "R",
   "name": "ir"
  },
  "language_info": {
   "codemirror_mode": "r",
   "file_extension": ".r",
   "mimetype": "text/x-r-source",
   "name": "R",
   "pygments_lexer": "r",
   "version": "4.3.2"
  }
 },
 "nbformat": 4,
 "nbformat_minor": 2
}
