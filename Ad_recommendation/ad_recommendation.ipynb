{
 "cells": [
  {
   "cell_type": "markdown",
   "metadata": {},
   "source": [
    "### Association Rule Mining"
   ]
  },
  {
   "cell_type": "code",
   "execution_count": 73,
   "metadata": {
    "vscode": {
     "languageId": "r"
    }
   },
   "outputs": [
    {
     "data": {
      "text/plain": [
       "transactions in sparse format with\n",
       " 35 transactions (rows) and\n",
       " 10 items (columns)"
      ]
     },
     "metadata": {},
     "output_type": "display_data"
    }
   ],
   "source": [
    "library(arules)\n",
    "library(arulesViz)\n",
    "\n",
    "data <- read.transactions(\"data.csv\",\n",
    "                           rm.duplicates = FALSE, \n",
    "                           format = \"basket\",  \n",
    "                           sep=\",\",  ## csv file\n",
    "                           cols=1)\n",
    "data"
   ]
  },
  {
   "cell_type": "code",
   "execution_count": 74,
   "metadata": {
    "vscode": {
     "languageId": "r"
    }
   },
   "outputs": [],
   "source": [
    "data <- data[1:20]"
   ]
  },
  {
   "cell_type": "markdown",
   "metadata": {},
   "source": [
    "### Transaction Data"
   ]
  },
  {
   "cell_type": "code",
   "execution_count": 75,
   "metadata": {
    "vscode": {
     "languageId": "r"
    }
   },
   "outputs": [
    {
     "name": "stdout",
     "output_type": "stream",
     "text": [
      "     items                                      transactionID  \n",
      "[1]  {HEADPHONES, WALLET}                       SMARTPHONE_CASE\n",
      "[2]  {CHAIR, SCREEN_CLEANER}                    SMARTPHONE_CASE\n",
      "[3]  {HDMI_CABLE, KEYBOARD, SCREEN GUARD}       SCREEN_CLEANER \n",
      "[4]  {HDMI_CABLE, HEADPHONES}                   CHARGER        \n",
      "[5]  {HDMI_CABLE, SMARTPHONE_CASE}              SMARTPHONE     \n",
      "[6]  {HDMI_CABLE, HEADPHONES, SMARTPHONE_CASE}  CHARGER        \n",
      "[7]  {HDMI_CABLE, KEYBOARD, SCREEN GUARD}       SCREEN_CLEANER \n",
      "[8]  {CHAIR, WALLET}                            SMARTPHONE_CASE\n",
      "[9]  {CHAIR, SCREEN_CLEANER}                    SMARTPHONE_CASE\n",
      "[10] {HEADPHONES, WALLET}                       SMARTPHONE_CASE\n",
      "[11] {SCREEN GUARD, SCREEN_CLEANER, SMARTPHONE} HEADPHONES     \n",
      "[12] {CHAIR, WALLET}                            SCREEN_CLEANER \n",
      "[13] {HEADPHONES, SCREEN GUARD}                 CHARGER        \n",
      "[14] {CHAIR, SCREEN GUARD}                      SCREEN_CLEANER \n",
      "[15] {CHAIR, HDMI_CABLE}                        SMARTPHONE_CASE\n",
      "[16] {CHARGER, HEADPHONES, SMARTPHONE_CASE}     TABLE          \n",
      "[17] {KEYBOARD, SCREEN_CLEANER}                 SMARTPHONE_CASE\n",
      "[18] {SMARTPHONE}                               SMARTPHONE_CASE\n",
      "[19] {HDMI_CABLE, SCREEN GUARD, SMARTPHONE}     SMARTPHONE_CASE\n",
      "[20] {CHARGER, SMARTPHONE, SMARTPHONE_CASE}     TABLE          \n"
     ]
    }
   ],
   "source": [
    "inspect(data)"
   ]
  },
  {
   "cell_type": "markdown",
   "metadata": {},
   "source": [
    "### Rules - Smartphone in the LHS"
   ]
  },
  {
   "cell_type": "code",
   "execution_count": 76,
   "metadata": {
    "vscode": {
     "languageId": "r"
    }
   },
   "outputs": [
    {
     "name": "stdout",
     "output_type": "stream",
     "text": [
      "    lhs             rhs               support confidence coverage lift     \n",
      "[1] {SMARTPHONE} => {CHARGER}         0.05    0.25       0.2      2.5000000\n",
      "[2] {SMARTPHONE} => {SCREEN_CLEANER}  0.05    0.25       0.2      1.2500000\n",
      "[3] {SMARTPHONE} => {SMARTPHONE_CASE} 0.05    0.25       0.2      1.2500000\n",
      "[4] {SMARTPHONE} => {SCREEN GUARD}    0.10    0.50       0.2      1.6666667\n",
      "[5] {SMARTPHONE} => {HDMI_CABLE}      0.05    0.25       0.2      0.7142857\n",
      "    count\n",
      "[1] 1    \n",
      "[2] 1    \n",
      "[3] 1    \n",
      "[4] 2    \n",
      "[5] 1    \n"
     ]
    }
   ],
   "source": [
    "rules <- apriori(data=data,parameter = list(supp=.04, conf=.06, minlen=2),\n",
    "                     appearance = list(default=\"rhs\", lhs=\"SMARTPHONE\"),\n",
    "                     control=list(verbose=FALSE))\n",
    "\n",
    "inspect(rules)                                               "
   ]
  },
  {
   "cell_type": "code",
   "execution_count": 77,
   "metadata": {
    "vscode": {
     "languageId": "r"
    }
   },
   "outputs": [
    {
     "data": {
      "image/png": "[encoded data removed]",
      "text/plain": [
       "plot without title"
      ]
     },
     "metadata": {
      "image/png": {
       "height": 420,
       "width": 420
      }
     },
     "output_type": "display_data"
    }
   ],
   "source": [
    "rules <- head(sort(rules, by=\"lift\"))\n",
    "plot(rules,method = \"graph\")  "
   ]
  },
  {
   "cell_type": "markdown",
   "metadata": {},
   "source": [
    "#### Top 10 Rules by Confidence"
   ]
  },
  {
   "cell_type": "code",
   "execution_count": 78,
   "metadata": {
    "vscode": {
     "languageId": "r"
    }
   },
   "outputs": [
    {
     "name": "stdout",
     "output_type": "stream",
     "text": [
      "    lhs             rhs               support confidence coverage lift     \n",
      "[1] {SMARTPHONE} => {SCREEN GUARD}    0.10    0.50       0.2      1.6666667\n",
      "[2] {SMARTPHONE} => {CHARGER}         0.05    0.25       0.2      2.5000000\n",
      "[3] {SMARTPHONE} => {SCREEN_CLEANER}  0.05    0.25       0.2      1.2500000\n",
      "[4] {SMARTPHONE} => {SMARTPHONE_CASE} 0.05    0.25       0.2      1.2500000\n",
      "[5] {SMARTPHONE} => {HDMI_CABLE}      0.05    0.25       0.2      0.7142857\n",
      "    count\n",
      "[1] 2    \n",
      "[2] 1    \n",
      "[3] 1    \n",
      "[4] 1    \n",
      "[5] 1    \n"
     ]
    }
   ],
   "source": [
    "conf_rules <- sort(rules, decreasing=TRUE, by=\"confidence\")\n",
    "inspect(conf_rules[1:5])     "
   ]
  },
  {
   "cell_type": "markdown",
   "metadata": {},
   "source": [
    "#### Top 10 Rules by Lift"
   ]
  },
  {
   "cell_type": "code",
   "execution_count": 79,
   "metadata": {
    "vscode": {
     "languageId": "r"
    }
   },
   "outputs": [
    {
     "name": "stdout",
     "output_type": "stream",
     "text": [
      "    lhs             rhs               support confidence coverage lift     \n",
      "[1] {SMARTPHONE} => {CHARGER}         0.05    0.25       0.2      2.5000000\n",
      "[2] {SMARTPHONE} => {SCREEN GUARD}    0.10    0.50       0.2      1.6666667\n",
      "[3] {SMARTPHONE} => {SCREEN_CLEANER}  0.05    0.25       0.2      1.2500000\n",
      "[4] {SMARTPHONE} => {SMARTPHONE_CASE} 0.05    0.25       0.2      1.2500000\n",
      "[5] {SMARTPHONE} => {HDMI_CABLE}      0.05    0.25       0.2      0.7142857\n",
      "    count\n",
      "[1] 1    \n",
      "[2] 2    \n",
      "[3] 1    \n",
      "[4] 1    \n",
      "[5] 1    \n"
     ]
    }
   ],
   "source": [
    "lift_rules <- sort(rules, decreasing=TRUE, by=\"lift\")\n",
    "inspect(lift_rules[1:5])     "
   ]
  },
  {
   "cell_type": "markdown",
   "metadata": {},
   "source": [
    "#### Top 10 Rules by Support"
   ]
  },
  {
   "cell_type": "code",
   "execution_count": 80,
   "metadata": {
    "vscode": {
     "languageId": "r"
    }
   },
   "outputs": [
    {
     "name": "stdout",
     "output_type": "stream",
     "text": [
      "    lhs             rhs               support confidence coverage lift     \n",
      "[1] {SMARTPHONE} => {SCREEN GUARD}    0.10    0.50       0.2      1.6666667\n",
      "[2] {SMARTPHONE} => {CHARGER}         0.05    0.25       0.2      2.5000000\n",
      "[3] {SMARTPHONE} => {SCREEN_CLEANER}  0.05    0.25       0.2      1.2500000\n",
      "[4] {SMARTPHONE} => {SMARTPHONE_CASE} 0.05    0.25       0.2      1.2500000\n",
      "[5] {SMARTPHONE} => {HDMI_CABLE}      0.05    0.25       0.2      0.7142857\n",
      "    count\n",
      "[1] 2    \n",
      "[2] 1    \n",
      "[3] 1    \n",
      "[4] 1    \n",
      "[5] 1    \n"
     ]
    }
   ],
   "source": [
    "supp_rules <- sort(rules, decreasing=TRUE, by=\"support\")\n",
    "inspect(supp_rules[1:5])     "
   ]
  },
  {
   "cell_type": "markdown",
   "metadata": {},
   "source": [
    "### Association Rules - Headphones in the LHS\n"
   ]
  },
  {
   "cell_type": "code",
   "execution_count": 81,
   "metadata": {
    "vscode": {
     "languageId": "r"
    }
   },
   "outputs": [
    {
     "data": {
      "image/png": "[encoded data removed]",
      "text/plain": [
       "plot without title"
      ]
     },
     "metadata": {
      "image/png": {
       "height": 420,
       "width": 420
      }
     },
     "output_type": "display_data"
    }
   ],
   "source": [
    "rules <- apriori(data=data,parameter = list(supp=.04, conf=.05, minlen=2),\n",
    "                     appearance = list(default=\"rhs\", lhs=\"HEADPHONES\"),\n",
    "                     control=list(verbose=FALSE))\n",
    "subrules <- head(sort(rules, by=\"lift\"))\n",
    "plot(subrules,method = \"graph\")                                            "
   ]
  }
 ],
 "metadata": {
  "kernelspec": {
   "display_name": "R",
   "language": "R",
   "name": "ir"
  },
  "language_info": {
   "codemirror_mode": "r",
   "file_extension": ".r",
   "mimetype": "text/x-r-source",
   "name": "R",
   "pygments_lexer": "r",
   "version": "4.3.2"
  }
 },
 "nbformat": 4,
 "nbformat_minor": 2
}
