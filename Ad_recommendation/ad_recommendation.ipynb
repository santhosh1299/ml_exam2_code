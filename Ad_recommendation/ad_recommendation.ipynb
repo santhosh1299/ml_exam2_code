{
 "cells": [
  {
   "cell_type": "markdown",
   "metadata": {},
   "source": [
    "### Association Rule Mining"
   ]
  },
  {
   "cell_type": "markdown",
   "metadata": {},
   "source": [
    "Loading the data in the basket format to perform the association rule mining"
   ]
  },
  {
   "cell_type": "code",
   "execution_count": 136,
   "metadata": {
    "vscode": {
     "languageId": "r"
    }
   },
   "outputs": [
    {
     "data": {
      "text/plain": [
       "transactions in sparse format with\n",
       " 35 transactions (rows) and\n",
       " 11 items (columns)"
      ]
     },
     "metadata": {},
     "output_type": "display_data"
    }
   ],
   "source": [
    "library(arules)\n",
    "library(arulesViz)\n",
    "\n",
    "data <- read.transactions(\"data.csv\",\n",
    "                           rm.duplicates = FALSE, \n",
    "                           format = \"basket\",  \n",
    "                           sep=\",\",  ## csv file\n",
    "                           cols=1)\n",
    "data"
   ]
  },
  {
   "cell_type": "markdown",
   "metadata": {},
   "source": [
    "The basket data has 35 rows and 10 unique items for this analysis"
   ]
  },
  {
   "cell_type": "code",
   "execution_count": 137,
   "metadata": {
    "vscode": {
     "languageId": "r"
    }
   },
   "outputs": [],
   "source": [
    "data <- data[1:20]"
   ]
  },
  {
   "cell_type": "markdown",
   "metadata": {},
   "source": [
    "### Transaction Data"
   ]
  },
  {
   "cell_type": "code",
   "execution_count": 138,
   "metadata": {
    "vscode": {
     "languageId": "r"
    }
   },
   "outputs": [
    {
     "name": "stdout",
     "output_type": "stream",
     "text": [
      "     items              transactionID\n",
      "[1]  {HEADPHONES,                    \n",
      "      SMARTPHONE_CASE,               \n",
      "      WALLET}                      1 \n",
      "[2]  {CHAIR,                         \n",
      "      SCREEN_CLEANER,                \n",
      "      SMARTPHONE_CASE}             2 \n",
      "[3]  {HDMI_CABLE,                    \n",
      "      KEYBOARD,                      \n",
      "      SCREEN GUARD,                  \n",
      "      SCREEN_CLEANER}              3 \n",
      "[4]  {CHARGER,                       \n",
      "      HDMI_CABLE,                    \n",
      "      HEADPHONES}                  4 \n",
      "[5]  {HDMI_CABLE,                    \n",
      "      SMARTPHONE,                    \n",
      "      SMARTPHONE_CASE}             5 \n",
      "[6]  {CHARGER,                       \n",
      "      HDMI_CABLE,                    \n",
      "      HEADPHONES,                    \n",
      "      SMARTPHONE_CASE}             6 \n",
      "[7]  {HDMI_CABLE,                    \n",
      "      KEYBOARD,                      \n",
      "      SCREEN GUARD,                  \n",
      "      SCREEN_CLEANER}              7 \n",
      "[8]  {CHAIR,                         \n",
      "      SMARTPHONE_CASE,               \n",
      "      WALLET}                      8 \n",
      "[9]  {CHAIR,                         \n",
      "      SCREEN_CLEANER,                \n",
      "      SMARTPHONE_CASE}             9 \n",
      "[10] {HEADPHONES,                    \n",
      "      SMARTPHONE_CASE,               \n",
      "      WALLET}                      10\n",
      "[11] {HEADPHONES,                    \n",
      "      SCREEN GUARD,                  \n",
      "      SCREEN_CLEANER,                \n",
      "      SMARTPHONE}                  11\n",
      "[12] {CHAIR,                         \n",
      "      SCREEN_CLEANER,                \n",
      "      WALLET}                      12\n",
      "[13] {CHARGER,                       \n",
      "      HEADPHONES,                    \n",
      "      SCREEN GUARD}                13\n",
      "[14] {CHAIR,                         \n",
      "      SCREEN GUARD,                  \n",
      "      SCREEN_CLEANER}              14\n",
      "[15] {CHAIR,                         \n",
      "      HDMI_CABLE,                    \n",
      "      SMARTPHONE_CASE}             15\n",
      "[16] {CHARGER,                       \n",
      "      HEADPHONES,                    \n",
      "      SMARTPHONE_CASE,               \n",
      "      TABLE}                       16\n",
      "[17] {KEYBOARD,                      \n",
      "      SCREEN_CLEANER,                \n",
      "      SMARTPHONE_CASE}             17\n",
      "[18] {SMARTPHONE,                    \n",
      "      SMARTPHONE_CASE}             18\n",
      "[19] {HDMI_CABLE,                    \n",
      "      SCREEN GUARD,                  \n",
      "      SMARTPHONE,                    \n",
      "      SMARTPHONE_CASE}             19\n",
      "[20] {CHARGER,                       \n",
      "      SMARTPHONE,                    \n",
      "      SMARTPHONE_CASE,               \n",
      "      TABLE}                       20\n"
     ]
    }
   ],
   "source": [
    "inspect(data)"
   ]
  },
  {
   "cell_type": "markdown",
   "metadata": {
    "vscode": {
     "languageId": "r"
    }
   },
   "source": [
    "### Association Rules  - Apriori\n",
    "\n",
    "\n",
    "The rules are generated by using the frequent transactions that occurred together in the dataset.The algorithm explores the combination of different frequently occurred itemsets to find out the interesting patterns within the data while making sure the support of each transactions are above 4% and above the confidence of 6%."
   ]
  },
  {
   "cell_type": "code",
   "execution_count": 139,
   "metadata": {
    "vscode": {
     "languageId": "r"
    }
   },
   "outputs": [
    {
     "name": "stdout",
     "output_type": "stream",
     "text": [
      "      lhs                   rhs               support confidence coverage       lift count\n",
      "[1]   {TABLE}            => {SMARTPHONE}         0.05 0.50000000     0.10  2.0000000     1\n",
      "[2]   {SMARTPHONE}       => {TABLE}              0.05 0.20000000     0.25  2.0000000     1\n",
      "[3]   {TABLE}            => {CHARGER}            0.10 1.00000000     0.10  4.0000000     2\n",
      "[4]   {CHARGER}          => {TABLE}              0.10 0.40000000     0.25  4.0000000     2\n",
      "[5]   {TABLE}            => {HEADPHONES}         0.05 0.50000000     0.10  1.4285714     1\n",
      "[6]   {HEADPHONES}       => {TABLE}              0.05 0.14285714     0.35  1.4285714     1\n",
      "[7]   {TABLE}            => {SMARTPHONE_CASE}    0.10 1.00000000     0.10  1.5384615     2\n",
      "[8]   {SMARTPHONE_CASE}  => {TABLE}              0.10 0.15384615     0.65  1.5384615     2\n",
      "[9]   {KEYBOARD}         => {SCREEN GUARD}       0.10 0.66666667     0.15  2.2222222     2\n",
      "[10]  {SCREEN GUARD}     => {KEYBOARD}           0.10 0.33333333     0.30  2.2222222     2\n",
      "[11]  {KEYBOARD}         => {HDMI_CABLE}         0.10 0.66666667     0.15  1.9047619     2\n",
      "[12]  {HDMI_CABLE}       => {KEYBOARD}           0.10 0.28571429     0.35  1.9047619     2\n",
      "[13]  {KEYBOARD}         => {SCREEN_CLEANER}     0.15 1.00000000     0.15  2.5000000     3\n",
      "[14]  {SCREEN_CLEANER}   => {KEYBOARD}           0.15 0.37500000     0.40  2.5000000     3\n",
      "[15]  {KEYBOARD}         => {SMARTPHONE_CASE}    0.05 0.33333333     0.15  0.5128205     1\n",
      "[16]  {SMARTPHONE_CASE}  => {KEYBOARD}           0.05 0.07692308     0.65  0.5128205     1\n",
      "[17]  {WALLET}           => {CHAIR}              0.10 0.50000000     0.20  1.6666667     2\n",
      "[18]  {CHAIR}            => {WALLET}             0.10 0.33333333     0.30  1.6666667     2\n",
      "[19]  {WALLET}           => {HEADPHONES}         0.10 0.50000000     0.20  1.4285714     2\n",
      "[20]  {HEADPHONES}       => {WALLET}             0.10 0.28571429     0.35  1.4285714     2\n",
      "[21]  {WALLET}           => {SCREEN_CLEANER}     0.05 0.25000000     0.20  0.6250000     1\n",
      "[22]  {SCREEN_CLEANER}   => {WALLET}             0.05 0.12500000     0.40  0.6250000     1\n",
      "[23]  {WALLET}           => {SMARTPHONE_CASE}    0.15 0.75000000     0.20  1.1538462     3\n",
      "[24]  {SMARTPHONE_CASE}  => {WALLET}             0.15 0.23076923     0.65  1.1538462     3\n",
      "[25]  {SMARTPHONE}       => {CHARGER}            0.05 0.20000000     0.25  0.8000000     1\n",
      "[26]  {CHARGER}          => {SMARTPHONE}         0.05 0.20000000     0.25  0.8000000     1\n",
      "[27]  {SMARTPHONE}       => {SCREEN GUARD}       0.10 0.40000000     0.25  1.3333333     2\n",
      "[28]  {SCREEN GUARD}     => {SMARTPHONE}         0.10 0.33333333     0.30  1.3333333     2\n",
      "[29]  {SMARTPHONE}       => {HEADPHONES}         0.05 0.20000000     0.25  0.5714286     1\n",
      "[30]  {HEADPHONES}       => {SMARTPHONE}         0.05 0.14285714     0.35  0.5714286     1\n",
      "[31]  {SMARTPHONE}       => {HDMI_CABLE}         0.10 0.40000000     0.25  1.1428571     2\n",
      "[32]  {HDMI_CABLE}       => {SMARTPHONE}         0.10 0.28571429     0.35  1.1428571     2\n",
      "[33]  {SMARTPHONE}       => {SCREEN_CLEANER}     0.05 0.20000000     0.25  0.5000000     1\n",
      "[34]  {SCREEN_CLEANER}   => {SMARTPHONE}         0.05 0.12500000     0.40  0.5000000     1\n",
      "[35]  {SMARTPHONE}       => {SMARTPHONE_CASE}    0.20 0.80000000     0.25  1.2307692     4\n",
      "[36]  {SMARTPHONE_CASE}  => {SMARTPHONE}         0.20 0.30769231     0.65  1.2307692     4\n",
      "[37]  {CHAIR}            => {SCREEN GUARD}       0.05 0.16666667     0.30  0.5555556     1\n",
      "[38]  {SCREEN GUARD}     => {CHAIR}              0.05 0.16666667     0.30  0.5555556     1\n",
      "[39]  {CHAIR}            => {HDMI_CABLE}         0.05 0.16666667     0.30  0.4761905     1\n",
      "[40]  {HDMI_CABLE}       => {CHAIR}              0.05 0.14285714     0.35  0.4761905     1\n",
      "[41]  {CHAIR}            => {SCREEN_CLEANER}     0.20 0.66666667     0.30  1.6666667     4\n",
      "[42]  {SCREEN_CLEANER}   => {CHAIR}              0.20 0.50000000     0.40  1.6666667     4\n",
      "[43]  {CHAIR}            => {SMARTPHONE_CASE}    0.20 0.66666667     0.30  1.0256410     4\n",
      "[44]  {SMARTPHONE_CASE}  => {CHAIR}              0.20 0.30769231     0.65  1.0256410     4\n",
      "[45]  {CHARGER}          => {SCREEN GUARD}       0.05 0.20000000     0.25  0.6666667     1\n",
      "[46]  {SCREEN GUARD}     => {CHARGER}            0.05 0.16666667     0.30  0.6666667     1\n",
      "[47]  {CHARGER}          => {HEADPHONES}         0.20 0.80000000     0.25  2.2857143     4\n",
      "[48]  {HEADPHONES}       => {CHARGER}            0.20 0.57142857     0.35  2.2857143     4\n",
      "[49]  {CHARGER}          => {HDMI_CABLE}         0.10 0.40000000     0.25  1.1428571     2\n",
      "[50]  {HDMI_CABLE}       => {CHARGER}            0.10 0.28571429     0.35  1.1428571     2\n",
      "[51]  {CHARGER}          => {SMARTPHONE_CASE}    0.15 0.60000000     0.25  0.9230769     3\n",
      "[52]  {SMARTPHONE_CASE}  => {CHARGER}            0.15 0.23076923     0.65  0.9230769     3\n",
      "[53]  {SCREEN GUARD}     => {HEADPHONES}         0.10 0.33333333     0.30  0.9523810     2\n",
      "[54]  {HEADPHONES}       => {SCREEN GUARD}       0.10 0.28571429     0.35  0.9523810     2\n",
      "[55]  {SCREEN GUARD}     => {HDMI_CABLE}         0.15 0.50000000     0.30  1.4285714     3\n",
      "[56]  {HDMI_CABLE}       => {SCREEN GUARD}       0.15 0.42857143     0.35  1.4285714     3\n",
      "[57]  {SCREEN GUARD}     => {SCREEN_CLEANER}     0.20 0.66666667     0.30  1.6666667     4\n",
      "[58]  {SCREEN_CLEANER}   => {SCREEN GUARD}       0.20 0.50000000     0.40  1.6666667     4\n",
      "[59]  {SCREEN GUARD}     => {SMARTPHONE_CASE}    0.05 0.16666667     0.30  0.2564103     1\n",
      "[60]  {SMARTPHONE_CASE}  => {SCREEN GUARD}       0.05 0.07692308     0.65  0.2564103     1\n",
      "[61]  {HEADPHONES}       => {HDMI_CABLE}         0.10 0.28571429     0.35  0.8163265     2\n",
      "[62]  {HDMI_CABLE}       => {HEADPHONES}         0.10 0.28571429     0.35  0.8163265     2\n",
      "[63]  {HEADPHONES}       => {SCREEN_CLEANER}     0.05 0.14285714     0.35  0.3571429     1\n",
      "[64]  {SCREEN_CLEANER}   => {HEADPHONES}         0.05 0.12500000     0.40  0.3571429     1\n",
      "[65]  {HEADPHONES}       => {SMARTPHONE_CASE}    0.20 0.57142857     0.35  0.8791209     4\n",
      "[66]  {SMARTPHONE_CASE}  => {HEADPHONES}         0.20 0.30769231     0.65  0.8791209     4\n",
      "[67]  {HDMI_CABLE}       => {SCREEN_CLEANER}     0.10 0.28571429     0.35  0.7142857     2\n",
      "[68]  {SCREEN_CLEANER}   => {HDMI_CABLE}         0.10 0.25000000     0.40  0.7142857     2\n",
      "[69]  {HDMI_CABLE}       => {SMARTPHONE_CASE}    0.20 0.57142857     0.35  0.8791209     4\n",
      "[70]  {SMARTPHONE_CASE}  => {HDMI_CABLE}         0.20 0.30769231     0.65  0.8791209     4\n",
      "[71]  {SCREEN_CLEANER}   => {SMARTPHONE_CASE}    0.15 0.37500000     0.40  0.5769231     3\n",
      "[72]  {SMARTPHONE_CASE}  => {SCREEN_CLEANER}     0.15 0.23076923     0.65  0.5769231     3\n",
      "[73]  {SMARTPHONE,                                                                        \n",
      "       TABLE}            => {CHARGER}            0.05 1.00000000     0.05  4.0000000     1\n",
      "[74]  {CHARGER,                                                                           \n",
      "       TABLE}            => {SMARTPHONE}         0.05 0.50000000     0.10  2.0000000     1\n",
      "[75]  {CHARGER,                                                                           \n",
      "       SMARTPHONE}       => {TABLE}              0.05 1.00000000     0.05 10.0000000     1\n",
      "[76]  {SMARTPHONE,                                                                        \n",
      "       TABLE}            => {SMARTPHONE_CASE}    0.05 1.00000000     0.05  1.5384615     1\n",
      "[77]  {SMARTPHONE_CASE,                                                                   \n",
      "       TABLE}            => {SMARTPHONE}         0.05 0.50000000     0.10  2.0000000     1\n",
      "[78]  {SMARTPHONE,                                                                        \n",
      "       SMARTPHONE_CASE}  => {TABLE}              0.05 0.25000000     0.20  2.5000000     1\n",
      "[79]  {CHARGER,                                                                           \n",
      "       TABLE}            => {HEADPHONES}         0.05 0.50000000     0.10  1.4285714     1\n",
      "[80]  {HEADPHONES,                                                                        \n",
      "       TABLE}            => {CHARGER}            0.05 1.00000000     0.05  4.0000000     1\n",
      "[81]  {CHARGER,                                                                           \n",
      "       HEADPHONES}       => {TABLE}              0.05 0.25000000     0.20  2.5000000     1\n",
      "[82]  {CHARGER,                                                                           \n",
      "       TABLE}            => {SMARTPHONE_CASE}    0.10 1.00000000     0.10  1.5384615     2\n",
      "[83]  {SMARTPHONE_CASE,                                                                   \n",
      "       TABLE}            => {CHARGER}            0.10 1.00000000     0.10  4.0000000     2\n",
      "[84]  {CHARGER,                                                                           \n",
      "       SMARTPHONE_CASE}  => {TABLE}              0.10 0.66666667     0.15  6.6666667     2\n",
      "[85]  {HEADPHONES,                                                                        \n",
      "       TABLE}            => {SMARTPHONE_CASE}    0.05 1.00000000     0.05  1.5384615     1\n",
      "[86]  {SMARTPHONE_CASE,                                                                   \n",
      "       TABLE}            => {HEADPHONES}         0.05 0.50000000     0.10  1.4285714     1\n",
      "[87]  {HEADPHONES,                                                                        \n",
      "       SMARTPHONE_CASE}  => {TABLE}              0.05 0.25000000     0.20  2.5000000     1\n",
      "[88]  {KEYBOARD,                                                                          \n",
      "       SCREEN GUARD}     => {HDMI_CABLE}         0.10 1.00000000     0.10  2.8571429     2\n",
      "[89]  {HDMI_CABLE,                                                                        \n",
      "       KEYBOARD}         => {SCREEN GUARD}       0.10 1.00000000     0.10  3.3333333     2\n",
      "[90]  {HDMI_CABLE,                                                                        \n",
      "       SCREEN GUARD}     => {KEYBOARD}           0.10 0.66666667     0.15  4.4444444     2\n",
      "[91]  {KEYBOARD,                                                                          \n",
      "       SCREEN GUARD}     => {SCREEN_CLEANER}     0.10 1.00000000     0.10  2.5000000     2\n",
      "[92]  {KEYBOARD,                                                                          \n",
      "       SCREEN_CLEANER}   => {SCREEN GUARD}       0.10 0.66666667     0.15  2.2222222     2\n",
      "[93]  {SCREEN GUARD,                                                                      \n",
      "       SCREEN_CLEANER}   => {KEYBOARD}           0.10 0.50000000     0.20  3.3333333     2\n",
      "[94]  {HDMI_CABLE,                                                                        \n",
      "       KEYBOARD}         => {SCREEN_CLEANER}     0.10 1.00000000     0.10  2.5000000     2\n",
      "[95]  {KEYBOARD,                                                                          \n",
      "       SCREEN_CLEANER}   => {HDMI_CABLE}         0.10 0.66666667     0.15  1.9047619     2\n",
      "[96]  {HDMI_CABLE,                                                                        \n",
      "       SCREEN_CLEANER}   => {KEYBOARD}           0.10 1.00000000     0.10  6.6666667     2\n",
      "[97]  {KEYBOARD,                                                                          \n",
      "       SCREEN_CLEANER}   => {SMARTPHONE_CASE}    0.05 0.33333333     0.15  0.5128205     1\n",
      "[98]  {KEYBOARD,                                                                          \n",
      "       SMARTPHONE_CASE}  => {SCREEN_CLEANER}     0.05 1.00000000     0.05  2.5000000     1\n",
      "[99]  {SCREEN_CLEANER,                                                                    \n",
      "       SMARTPHONE_CASE}  => {KEYBOARD}           0.05 0.33333333     0.15  2.2222222     1\n",
      "[100] {CHAIR,                                                                             \n",
      "       WALLET}           => {SCREEN_CLEANER}     0.05 0.50000000     0.10  1.2500000     1\n",
      "[101] {SCREEN_CLEANER,                                                                    \n",
      "       WALLET}           => {CHAIR}              0.05 1.00000000     0.05  3.3333333     1\n",
      "[102] {CHAIR,                                                                             \n",
      "       SCREEN_CLEANER}   => {WALLET}             0.05 0.25000000     0.20  1.2500000     1\n",
      "[103] {CHAIR,                                                                             \n",
      "       WALLET}           => {SMARTPHONE_CASE}    0.05 0.50000000     0.10  0.7692308     1\n",
      "[104] {SMARTPHONE_CASE,                                                                   \n",
      "       WALLET}           => {CHAIR}              0.05 0.33333333     0.15  1.1111111     1\n",
      "[105] {CHAIR,                                                                             \n",
      "       SMARTPHONE_CASE}  => {WALLET}             0.05 0.25000000     0.20  1.2500000     1\n",
      "[106] {HEADPHONES,                                                                        \n",
      "       WALLET}           => {SMARTPHONE_CASE}    0.10 1.00000000     0.10  1.5384615     2\n",
      "[107] {SMARTPHONE_CASE,                                                                   \n",
      "       WALLET}           => {HEADPHONES}         0.10 0.66666667     0.15  1.9047619     2\n",
      "[108] {HEADPHONES,                                                                        \n",
      "       SMARTPHONE_CASE}  => {WALLET}             0.10 0.50000000     0.20  2.5000000     2\n",
      "[109] {CHARGER,                                                                           \n",
      "       SMARTPHONE}       => {SMARTPHONE_CASE}    0.05 1.00000000     0.05  1.5384615     1\n",
      "[110] {SMARTPHONE,                                                                        \n",
      "       SMARTPHONE_CASE}  => {CHARGER}            0.05 0.25000000     0.20  1.0000000     1\n",
      "[111] {CHARGER,                                                                           \n",
      "       SMARTPHONE_CASE}  => {SMARTPHONE}         0.05 0.33333333     0.15  1.3333333     1\n",
      "[112] {SCREEN GUARD,                                                                      \n",
      "       SMARTPHONE}       => {HEADPHONES}         0.05 0.50000000     0.10  1.4285714     1\n",
      "[113] {HEADPHONES,                                                                        \n",
      "       SMARTPHONE}       => {SCREEN GUARD}       0.05 1.00000000     0.05  3.3333333     1\n",
      "[114] {HEADPHONES,                                                                        \n",
      "       SCREEN GUARD}     => {SMARTPHONE}         0.05 0.50000000     0.10  2.0000000     1\n",
      "[115] {SCREEN GUARD,                                                                      \n",
      "       SMARTPHONE}       => {HDMI_CABLE}         0.05 0.50000000     0.10  1.4285714     1\n",
      "[116] {HDMI_CABLE,                                                                        \n",
      "       SMARTPHONE}       => {SCREEN GUARD}       0.05 0.50000000     0.10  1.6666667     1\n",
      "[117] {HDMI_CABLE,                                                                        \n",
      "       SCREEN GUARD}     => {SMARTPHONE}         0.05 0.33333333     0.15  1.3333333     1\n",
      "[118] {SCREEN GUARD,                                                                      \n",
      "       SMARTPHONE}       => {SCREEN_CLEANER}     0.05 0.50000000     0.10  1.2500000     1\n",
      "[119] {SCREEN_CLEANER,                                                                    \n",
      "       SMARTPHONE}       => {SCREEN GUARD}       0.05 1.00000000     0.05  3.3333333     1\n",
      "[120] {SCREEN GUARD,                                                                      \n",
      "       SCREEN_CLEANER}   => {SMARTPHONE}         0.05 0.25000000     0.20  1.0000000     1\n",
      "[121] {SCREEN GUARD,                                                                      \n",
      "       SMARTPHONE}       => {SMARTPHONE_CASE}    0.05 0.50000000     0.10  0.7692308     1\n",
      "[122] {SMARTPHONE,                                                                        \n",
      "       SMARTPHONE_CASE}  => {SCREEN GUARD}       0.05 0.25000000     0.20  0.8333333     1\n",
      "[123] {SCREEN GUARD,                                                                      \n",
      "       SMARTPHONE_CASE}  => {SMARTPHONE}         0.05 1.00000000     0.05  4.0000000     1\n",
      "[124] {HEADPHONES,                                                                        \n",
      "       SMARTPHONE}       => {SCREEN_CLEANER}     0.05 1.00000000     0.05  2.5000000     1\n",
      "[125] {SCREEN_CLEANER,                                                                    \n",
      "       SMARTPHONE}       => {HEADPHONES}         0.05 1.00000000     0.05  2.8571429     1\n",
      "[126] {HEADPHONES,                                                                        \n",
      "       SCREEN_CLEANER}   => {SMARTPHONE}         0.05 1.00000000     0.05  4.0000000     1\n",
      "[127] {HDMI_CABLE,                                                                        \n",
      "       SMARTPHONE}       => {SMARTPHONE_CASE}    0.10 1.00000000     0.10  1.5384615     2\n",
      "[128] {SMARTPHONE,                                                                        \n",
      "       SMARTPHONE_CASE}  => {HDMI_CABLE}         0.10 0.50000000     0.20  1.4285714     2\n",
      "[129] {HDMI_CABLE,                                                                        \n",
      "       SMARTPHONE_CASE}  => {SMARTPHONE}         0.10 0.50000000     0.20  2.0000000     2\n",
      "[130] {CHAIR,                                                                             \n",
      "       SCREEN GUARD}     => {SCREEN_CLEANER}     0.05 1.00000000     0.05  2.5000000     1\n",
      "[131] {CHAIR,                                                                             \n",
      "       SCREEN_CLEANER}   => {SCREEN GUARD}       0.05 0.25000000     0.20  0.8333333     1\n",
      "[132] {SCREEN GUARD,                                                                      \n",
      "       SCREEN_CLEANER}   => {CHAIR}              0.05 0.25000000     0.20  0.8333333     1\n",
      "[133] {CHAIR,                                                                             \n",
      "       HDMI_CABLE}       => {SMARTPHONE_CASE}    0.05 1.00000000     0.05  1.5384615     1\n",
      "[134] {CHAIR,                                                                             \n",
      "       SMARTPHONE_CASE}  => {HDMI_CABLE}         0.05 0.25000000     0.20  0.7142857     1\n",
      "[135] {HDMI_CABLE,                                                                        \n",
      "       SMARTPHONE_CASE}  => {CHAIR}              0.05 0.25000000     0.20  0.8333333     1\n",
      "[136] {CHAIR,                                                                             \n",
      "       SCREEN_CLEANER}   => {SMARTPHONE_CASE}    0.10 0.50000000     0.20  0.7692308     2\n",
      "[137] {CHAIR,                                                                             \n",
      "       SMARTPHONE_CASE}  => {SCREEN_CLEANER}     0.10 0.50000000     0.20  1.2500000     2\n",
      "[138] {SCREEN_CLEANER,                                                                    \n",
      "       SMARTPHONE_CASE}  => {CHAIR}              0.10 0.66666667     0.15  2.2222222     2\n",
      "[139] {CHARGER,                                                                           \n",
      "       SCREEN GUARD}     => {HEADPHONES}         0.05 1.00000000     0.05  2.8571429     1\n",
      "[140] {CHARGER,                                                                           \n",
      "       HEADPHONES}       => {SCREEN GUARD}       0.05 0.25000000     0.20  0.8333333     1\n",
      "[141] {HEADPHONES,                                                                        \n",
      "       SCREEN GUARD}     => {CHARGER}            0.05 0.50000000     0.10  2.0000000     1\n",
      "[142] {CHARGER,                                                                           \n",
      "       HEADPHONES}       => {HDMI_CABLE}         0.10 0.50000000     0.20  1.4285714     2\n",
      "[143] {CHARGER,                                                                           \n",
      "       HDMI_CABLE}       => {HEADPHONES}         0.10 1.00000000     0.10  2.8571429     2\n",
      "[144] {HDMI_CABLE,                                                                        \n",
      "       HEADPHONES}       => {CHARGER}            0.10 1.00000000     0.10  4.0000000     2\n",
      "[145] {CHARGER,                                                                           \n",
      "       HEADPHONES}       => {SMARTPHONE_CASE}    0.10 0.50000000     0.20  0.7692308     2\n",
      "[146] {CHARGER,                                                                           \n",
      "       SMARTPHONE_CASE}  => {HEADPHONES}         0.10 0.66666667     0.15  1.9047619     2\n",
      "[147] {HEADPHONES,                                                                        \n",
      "       SMARTPHONE_CASE}  => {CHARGER}            0.10 0.50000000     0.20  2.0000000     2\n",
      "[148] {CHARGER,                                                                           \n",
      "       HDMI_CABLE}       => {SMARTPHONE_CASE}    0.05 0.50000000     0.10  0.7692308     1\n",
      "[149] {CHARGER,                                                                           \n",
      "       SMARTPHONE_CASE}  => {HDMI_CABLE}         0.05 0.33333333     0.15  0.9523810     1\n",
      "[150] {HDMI_CABLE,                                                                        \n",
      "       SMARTPHONE_CASE}  => {CHARGER}            0.05 0.25000000     0.20  1.0000000     1\n",
      "[151] {HEADPHONES,                                                                        \n",
      "       SCREEN GUARD}     => {SCREEN_CLEANER}     0.05 0.50000000     0.10  1.2500000     1\n",
      "[152] {SCREEN GUARD,                                                                      \n",
      "       SCREEN_CLEANER}   => {HEADPHONES}         0.05 0.25000000     0.20  0.7142857     1\n",
      "[153] {HEADPHONES,                                                                        \n",
      "       SCREEN_CLEANER}   => {SCREEN GUARD}       0.05 1.00000000     0.05  3.3333333     1\n",
      "[154] {HDMI_CABLE,                                                                        \n",
      "       SCREEN GUARD}     => {SCREEN_CLEANER}     0.10 0.66666667     0.15  1.6666667     2\n",
      "[155] {SCREEN GUARD,                                                                      \n",
      "       SCREEN_CLEANER}   => {HDMI_CABLE}         0.10 0.50000000     0.20  1.4285714     2\n",
      "[156] {HDMI_CABLE,                                                                        \n",
      "       SCREEN_CLEANER}   => {SCREEN GUARD}       0.10 1.00000000     0.10  3.3333333     2\n",
      "[157] {HDMI_CABLE,                                                                        \n",
      "       SCREEN GUARD}     => {SMARTPHONE_CASE}    0.05 0.33333333     0.15  0.5128205     1\n",
      "[158] {SCREEN GUARD,                                                                      \n",
      "       SMARTPHONE_CASE}  => {HDMI_CABLE}         0.05 1.00000000     0.05  2.8571429     1\n",
      "[159] {HDMI_CABLE,                                                                        \n",
      "       SMARTPHONE_CASE}  => {SCREEN GUARD}       0.05 0.25000000     0.20  0.8333333     1\n",
      "[160] {HDMI_CABLE,                                                                        \n",
      "       HEADPHONES}       => {SMARTPHONE_CASE}    0.05 0.50000000     0.10  0.7692308     1\n",
      "[161] {HEADPHONES,                                                                        \n",
      "       SMARTPHONE_CASE}  => {HDMI_CABLE}         0.05 0.25000000     0.20  0.7142857     1\n",
      "[162] {HDMI_CABLE,                                                                        \n",
      "       SMARTPHONE_CASE}  => {HEADPHONES}         0.05 0.25000000     0.20  0.7142857     1\n",
      "[163] {CHARGER,                                                                           \n",
      "       SMARTPHONE,                                                                        \n",
      "       TABLE}            => {SMARTPHONE_CASE}    0.05 1.00000000     0.05  1.5384615     1\n",
      "[164] {SMARTPHONE,                                                                        \n",
      "       SMARTPHONE_CASE,                                                                   \n",
      "       TABLE}            => {CHARGER}            0.05 1.00000000     0.05  4.0000000     1\n",
      "[165] {CHARGER,                                                                           \n",
      "       SMARTPHONE_CASE,                                                                   \n",
      "       TABLE}            => {SMARTPHONE}         0.05 0.50000000     0.10  2.0000000     1\n",
      "[166] {CHARGER,                                                                           \n",
      "       SMARTPHONE,                                                                        \n",
      "       SMARTPHONE_CASE}  => {TABLE}              0.05 1.00000000     0.05 10.0000000     1\n",
      "[167] {CHARGER,                                                                           \n",
      "       HEADPHONES,                                                                        \n",
      "       TABLE}            => {SMARTPHONE_CASE}    0.05 1.00000000     0.05  1.5384615     1\n",
      "[168] {CHARGER,                                                                           \n",
      "       SMARTPHONE_CASE,                                                                   \n",
      "       TABLE}            => {HEADPHONES}         0.05 0.50000000     0.10  1.4285714     1\n",
      "[169] {HEADPHONES,                                                                        \n",
      "       SMARTPHONE_CASE,                                                                   \n",
      "       TABLE}            => {CHARGER}            0.05 1.00000000     0.05  4.0000000     1\n",
      "[170] {CHARGER,                                                                           \n",
      "       HEADPHONES,                                                                        \n",
      "       SMARTPHONE_CASE}  => {TABLE}              0.05 0.50000000     0.10  5.0000000     1\n",
      "[171] {HDMI_CABLE,                                                                        \n",
      "       KEYBOARD,                                                                          \n",
      "       SCREEN GUARD}     => {SCREEN_CLEANER}     0.10 1.00000000     0.10  2.5000000     2\n",
      "[172] {KEYBOARD,                                                                          \n",
      "       SCREEN GUARD,                                                                      \n",
      "       SCREEN_CLEANER}   => {HDMI_CABLE}         0.10 1.00000000     0.10  2.8571429     2\n",
      "[173] {HDMI_CABLE,                                                                        \n",
      "       KEYBOARD,                                                                          \n",
      "       SCREEN_CLEANER}   => {SCREEN GUARD}       0.10 1.00000000     0.10  3.3333333     2\n",
      "[174] {HDMI_CABLE,                                                                        \n",
      "       SCREEN GUARD,                                                                      \n",
      "       SCREEN_CLEANER}   => {KEYBOARD}           0.10 1.00000000     0.10  6.6666667     2\n",
      "[175] {HEADPHONES,                                                                        \n",
      "       SCREEN GUARD,                                                                      \n",
      "       SMARTPHONE}       => {SCREEN_CLEANER}     0.05 1.00000000     0.05  2.5000000     1\n",
      "[176] {SCREEN GUARD,                                                                      \n",
      "       SCREEN_CLEANER,                                                                    \n",
      "       SMARTPHONE}       => {HEADPHONES}         0.05 1.00000000     0.05  2.8571429     1\n",
      "[177] {HEADPHONES,                                                                        \n",
      "       SCREEN_CLEANER,                                                                    \n",
      "       SMARTPHONE}       => {SCREEN GUARD}       0.05 1.00000000     0.05  3.3333333     1\n",
      "[178] {HEADPHONES,                                                                        \n",
      "       SCREEN GUARD,                                                                      \n",
      "       SCREEN_CLEANER}   => {SMARTPHONE}         0.05 1.00000000     0.05  4.0000000     1\n",
      "[179] {HDMI_CABLE,                                                                        \n",
      "       SCREEN GUARD,                                                                      \n",
      "       SMARTPHONE}       => {SMARTPHONE_CASE}    0.05 1.00000000     0.05  1.5384615     1\n",
      "[180] {SCREEN GUARD,                                                                      \n",
      "       SMARTPHONE,                                                                        \n",
      "       SMARTPHONE_CASE}  => {HDMI_CABLE}         0.05 1.00000000     0.05  2.8571429     1\n",
      "[181] {HDMI_CABLE,                                                                        \n",
      "       SMARTPHONE,                                                                        \n",
      "       SMARTPHONE_CASE}  => {SCREEN GUARD}       0.05 0.50000000     0.10  1.6666667     1\n",
      "[182] {HDMI_CABLE,                                                                        \n",
      "       SCREEN GUARD,                                                                      \n",
      "       SMARTPHONE_CASE}  => {SMARTPHONE}         0.05 1.00000000     0.05  4.0000000     1\n",
      "[183] {CHARGER,                                                                           \n",
      "       HDMI_CABLE,                                                                        \n",
      "       HEADPHONES}       => {SMARTPHONE_CASE}    0.05 0.50000000     0.10  0.7692308     1\n",
      "[184] {CHARGER,                                                                           \n",
      "       HEADPHONES,                                                                        \n",
      "       SMARTPHONE_CASE}  => {HDMI_CABLE}         0.05 0.50000000     0.10  1.4285714     1\n",
      "[185] {CHARGER,                                                                           \n",
      "       HDMI_CABLE,                                                                        \n",
      "       SMARTPHONE_CASE}  => {HEADPHONES}         0.05 1.00000000     0.05  2.8571429     1\n",
      "[186] {HDMI_CABLE,                                                                        \n",
      "       HEADPHONES,                                                                        \n",
      "       SMARTPHONE_CASE}  => {CHARGER}            0.05 1.00000000     0.05  4.0000000     1\n"
     ]
    }
   ],
   "source": [
    "rules <- apriori(data=data,parameter = list(supp=.04, conf=.06, minlen=2),\n",
    "                    ,\n",
    "                     control=list(verbose=FALSE))\n",
    "\n",
    "inspect(rules)                                               "
   ]
  },
  {
   "cell_type": "markdown",
   "metadata": {},
   "source": [
    "### Rules - Smartphone in the LHS"
   ]
  },
  {
   "cell_type": "markdown",
   "metadata": {},
   "source": [
    "With this example we can see how this association rules can be helpful in recommending the products to the user."
   ]
  },
  {
   "cell_type": "code",
   "execution_count": 140,
   "metadata": {
    "vscode": {
     "languageId": "r"
    }
   },
   "outputs": [
    {
     "name": "stdout",
     "output_type": "stream",
     "text": [
      "    lhs             rhs               support confidence coverage lift     \n",
      "[1] {SMARTPHONE} => {TABLE}           0.05    0.2        0.25     2.0000000\n",
      "[2] {SMARTPHONE} => {CHARGER}         0.05    0.2        0.25     0.8000000\n",
      "[3] {SMARTPHONE} => {SCREEN GUARD}    0.10    0.4        0.25     1.3333333\n",
      "[4] {SMARTPHONE} => {HEADPHONES}      0.05    0.2        0.25     0.5714286\n",
      "[5] {SMARTPHONE} => {HDMI_CABLE}      0.10    0.4        0.25     1.1428571\n",
      "[6] {SMARTPHONE} => {SCREEN_CLEANER}  0.05    0.2        0.25     0.5000000\n",
      "[7] {SMARTPHONE} => {SMARTPHONE_CASE} 0.20    0.8        0.25     1.2307692\n",
      "    count\n",
      "[1] 1    \n",
      "[2] 1    \n",
      "[3] 2    \n",
      "[4] 1    \n",
      "[5] 2    \n",
      "[6] 1    \n",
      "[7] 4    \n"
     ]
    }
   ],
   "source": [
    "rules <- apriori(data=data,parameter = list(supp=.04, conf=.06, minlen=2),\n",
    "                     appearance = list(default=\"rhs\", lhs=\"SMARTPHONE\"),\n",
    "                     control=list(verbose=FALSE))\n",
    "\n",
    "inspect(rules)                                               "
   ]
  },
  {
   "cell_type": "markdown",
   "metadata": {},
   "source": [
    "### Association Rules sorted by Lift\n",
    "\n",
    "Denotes the high association between the smartphone, this means that they are individually is less than compared to the purchase along with a smartphone."
   ]
  },
  {
   "cell_type": "code",
   "execution_count": 141,
   "metadata": {
    "vscode": {
     "languageId": "r"
    }
   },
   "outputs": [
    {
     "data": {
      "image/png": "[encoded data removed]",
      "text/plain": [
       "plot without title"
      ]
     },
     "metadata": {
      "image/png": {
       "height": 420,
       "width": 420
      }
     },
     "output_type": "display_data"
    }
   ],
   "source": [
    "rules <- head(sort(rules, by=\"lift\"))\n",
    "plot(rules,method = \"graph\")  "
   ]
  },
  {
   "cell_type": "markdown",
   "metadata": {},
   "source": [
    "### Association Rules sorted by Confidence\n",
    "\n",
    "Denotes a strong correlation between the other products which can be used for recommendations, it is reliable indicator for their correlation strength."
   ]
  },
  {
   "cell_type": "code",
   "execution_count": 142,
   "metadata": {
    "vscode": {
     "languageId": "r"
    }
   },
   "outputs": [
    {
     "data": {
      "image/png": "[encoded data removed]",
      "text/plain": [
       "plot without title"
      ]
     },
     "metadata": {
      "image/png": {
       "height": 420,
       "width": 420
      }
     },
     "output_type": "display_data"
    }
   ],
   "source": [
    "rules <- head(sort(rules, by=\"confidence\"))\n",
    "plot(rules,method = \"graph\")  "
   ]
  },
  {
   "cell_type": "markdown",
   "metadata": {},
   "source": [
    "### Association Rules sorted by Support\n",
    "\n",
    "Denotes the highly frequent item sets in the dataset which is just their repeated occurrence and popularity among the transactions."
   ]
  },
  {
   "cell_type": "code",
   "execution_count": 143,
   "metadata": {
    "vscode": {
     "languageId": "r"
    }
   },
   "outputs": [
    {
     "data": {
      "image/png": "[encoded data removed]",
      "text/plain": [
       "plot without title"
      ]
     },
     "metadata": {
      "image/png": {
       "height": 420,
       "width": 420
      }
     },
     "output_type": "display_data"
    }
   ],
   "source": [
    "rules <- head(sort(rules, by=\"support\"))\n",
    "plot(rules,method = \"graph\")  "
   ]
  },
  {
   "cell_type": "markdown",
   "metadata": {},
   "source": [
    "#### Top 5 Rules by Confidence"
   ]
  },
  {
   "cell_type": "code",
   "execution_count": 144,
   "metadata": {
    "vscode": {
     "languageId": "r"
    }
   },
   "outputs": [
    {
     "name": "stdout",
     "output_type": "stream",
     "text": [
      "    lhs             rhs               support confidence coverage lift    \n",
      "[1] {SMARTPHONE} => {SMARTPHONE_CASE} 0.20    0.8        0.25     1.230769\n",
      "[2] {SMARTPHONE} => {SCREEN GUARD}    0.10    0.4        0.25     1.333333\n",
      "[3] {SMARTPHONE} => {HDMI_CABLE}      0.10    0.4        0.25     1.142857\n",
      "[4] {SMARTPHONE} => {TABLE}           0.05    0.2        0.25     2.000000\n",
      "[5] {SMARTPHONE} => {CHARGER}         0.05    0.2        0.25     0.800000\n",
      "    count\n",
      "[1] 4    \n",
      "[2] 2    \n",
      "[3] 2    \n",
      "[4] 1    \n",
      "[5] 1    \n"
     ]
    }
   ],
   "source": [
    "conf_rules <- sort(rules, decreasing=TRUE, by=\"confidence\")\n",
    "inspect(conf_rules[1:5])     "
   ]
  },
  {
   "cell_type": "markdown",
   "metadata": {},
   "source": [
    "#### Top 5 Rules by Lift"
   ]
  },
  {
   "cell_type": "code",
   "execution_count": 145,
   "metadata": {
    "vscode": {
     "languageId": "r"
    }
   },
   "outputs": [
    {
     "name": "stdout",
     "output_type": "stream",
     "text": [
      "    lhs             rhs               support confidence coverage lift    \n",
      "[1] {SMARTPHONE} => {TABLE}           0.05    0.2        0.25     2.000000\n",
      "[2] {SMARTPHONE} => {SCREEN GUARD}    0.10    0.4        0.25     1.333333\n",
      "[3] {SMARTPHONE} => {SMARTPHONE_CASE} 0.20    0.8        0.25     1.230769\n",
      "[4] {SMARTPHONE} => {HDMI_CABLE}      0.10    0.4        0.25     1.142857\n",
      "[5] {SMARTPHONE} => {CHARGER}         0.05    0.2        0.25     0.800000\n",
      "    count\n",
      "[1] 1    \n",
      "[2] 2    \n",
      "[3] 4    \n",
      "[4] 2    \n",
      "[5] 1    \n"
     ]
    }
   ],
   "source": [
    "lift_rules <- sort(rules, decreasing=TRUE, by=\"lift\")\n",
    "inspect(lift_rules[1:5])     "
   ]
  },
  {
   "cell_type": "markdown",
   "metadata": {},
   "source": [
    "#### Top 5 Rules by Support"
   ]
  },
  {
   "cell_type": "code",
   "execution_count": 146,
   "metadata": {
    "vscode": {
     "languageId": "r"
    }
   },
   "outputs": [
    {
     "name": "stdout",
     "output_type": "stream",
     "text": [
      "    lhs             rhs               support confidence coverage lift    \n",
      "[1] {SMARTPHONE} => {SMARTPHONE_CASE} 0.20    0.8        0.25     1.230769\n",
      "[2] {SMARTPHONE} => {SCREEN GUARD}    0.10    0.4        0.25     1.333333\n",
      "[3] {SMARTPHONE} => {HDMI_CABLE}      0.10    0.4        0.25     1.142857\n",
      "[4] {SMARTPHONE} => {TABLE}           0.05    0.2        0.25     2.000000\n",
      "[5] {SMARTPHONE} => {CHARGER}         0.05    0.2        0.25     0.800000\n",
      "    count\n",
      "[1] 4    \n",
      "[2] 2    \n",
      "[3] 2    \n",
      "[4] 1    \n",
      "[5] 1    \n"
     ]
    }
   ],
   "source": [
    "supp_rules <- sort(rules, decreasing=TRUE, by=\"support\")\n",
    "inspect(supp_rules[1:5])     "
   ]
  },
  {
   "cell_type": "markdown",
   "metadata": {},
   "source": [
    "In conclusion, these rules are used generally by the eccommerce business to recommend other products to their customers based on their histrocial purchase."
   ]
  }
 ],
 "metadata": {
  "kernelspec": {
   "display_name": "R",
   "language": "R",
   "name": "ir"
  },
  "language_info": {
   "codemirror_mode": "r",
   "file_extension": ".r",
   "mimetype": "text/x-r-source",
   "name": "R",
   "pygments_lexer": "r",
   "version": "4.3.2"
  }
 },
 "nbformat": 4,
 "nbformat_minor": 2
}
